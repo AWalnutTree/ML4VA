{
 "cells": [
  {
   "cell_type": "markdown",
   "metadata": {},
   "source": [
    "# Closer Look - Virginia Food Banks Dataset"
   ]
  },
  {
   "cell_type": "code",
   "execution_count": 38,
   "metadata": {},
   "outputs": [],
   "source": [
    "# Imports\n",
    "import pandas as pd\n",
    "import folium\n",
    "import json"
   ]
  },
  {
   "cell_type": "code",
   "execution_count": 39,
   "metadata": {},
   "outputs": [],
   "source": [
    "df = pd.read_csv('OUTPUT/SUPPLY.csv')\n",
    "\n",
    "# Convert relevant columns to numeric types\n",
    "df['people_below_poverty_total'] = pd.to_numeric(df['people_below_poverty_total'], errors='coerce')\n",
    "df['poverty_rate'] = df['poverty_rate'].str.rstrip('%').astype(float)\n",
    "df['Pounds of Food Distributed'] = pd.to_numeric(df['Pounds of Food Distributed'], errors='coerce')\n",
    "df['lbs_per_person_below_poverty'] = pd.to_numeric(df['lbs_per_person_below_poverty'], errors='coerce')\n",
    "\n",
    "df_aggregated = df.groupby('Locality').agg({\n",
    "    'people_below_poverty_total': 'mean',\n",
    "    'poverty_rate': 'mean',\n",
    "    'Pounds of Food Distributed': 'sum',\n",
    "    'lbs_per_person_below_poverty': 'mean',\n",
    "    'Supply': lambda x: x.mode()[0]  # Assuming mode is the most common supply level\n",
    "}).reset_index()\n",
    "\n",
    "df_aggregated = df_aggregated.round({\n",
    "    'people_below_poverty_total': 2,\n",
    "    'poverty_rate': 2,\n",
    "    'Pounds of Food Distributed': 2,\n",
    "    'lbs_per_person_below_poverty': 2\n",
    "})\n",
    "\n",
    "df_aggregated['poverty_rate'] = df_aggregated['poverty_rate'].astype(str) + '%'"
   ]
  },
  {
   "cell_type": "code",
   "execution_count": 40,
   "metadata": {},
   "outputs": [
    {
     "name": "stdout",
     "output_type": "stream",
     "text": [
      "Winchester City\n",
      "Williamsburg City\n",
      "Waynesboro City\n",
      "Virginia Beach City\n",
      "Suffolk City\n",
      "Staunton City\n",
      "Salem City\n",
      "Roanoke City\n",
      "Richmond City\n",
      "Radford City\n",
      "Portsmouth City\n",
      "Poquoson City\n",
      "Petersburg City\n",
      "Norton City\n",
      "Norfolk City\n",
      "Newport News City\n",
      "Martinsville City\n",
      "Manassas Park City\n",
      "Manassas City\n",
      "Lynchburg City\n",
      "Lexington City\n",
      "Hopewell City\n",
      "Harrisonburg City\n",
      "Hampton City\n",
      "Galax City\n",
      "Fredericksburg City\n",
      "Franklin City\n",
      "Falls Church City\n",
      "Fairfax City\n",
      "Emporia City\n",
      "Danville City\n",
      "Covington City\n",
      "Colonial Heights City\n",
      "Chesapeake City\n",
      "Charlottesville City\n",
      "Buena Vista City\n",
      "Bristol City\n",
      "Alexandria City\n"
     ]
    }
   ],
   "source": [
    "va_map = folium.Map(location=[37.4316, -78.6569], zoom_start=8)\n",
    "\n",
    "with open('va.geojson') as f:\n",
    "    counties_geojson = json.load(f)\n",
    "\n",
    "def get_supply_color(supply):\n",
    "    if supply == '--':\n",
    "        return 'red'\n",
    "    elif supply == '-':\n",
    "        return 'orange'\n",
    "    elif supply == '○':\n",
    "        return 'yellow'\n",
    "    elif supply == '+':\n",
    "        return 'lightgreen'\n",
    "    elif supply == '++':\n",
    "        return 'green'\n",
    "\n",
    "for feature in counties_geojson['features']:\n",
    "    locale_name = feature['properties']['name'] + \" \" + feature['properties']['TYPE']\n",
    "    if locale_name in df['Locality'].values:\n",
    "        supply_value = df[df['Locality'] == locale_name]['Supply'].values[0]\n",
    "        feature['properties']['supply_color'] = get_supply_color(str(supply_value))\n",
    "    else:\n",
    "        print(locale_name)\n",
    "        feature['properties']['supply_color'] = 'purple'\n",
    "\n",
    "m = folium.Map(location=[37.5, -78.5], zoom_start=7)\n",
    "\n",
    "folium.GeoJson(\n",
    "    counties_geojson,\n",
    "    style_function=lambda feature: {\n",
    "        'fillColor': feature['properties']['supply_color'],\n",
    "        'color': feature['properties']['supply_color'],\n",
    "        'weight': 2,\n",
    "        'fillOpacity': 0.3\n",
    "    },\n",
    "    tooltip=folium.GeoJsonTooltip(\n",
    "        fields=['name', 'supply_color'],\n",
    "        aliases=['County:', 'Supply Level:']\n",
    "    )\n",
    ").add_to(m)\n",
    "\n",
    "m.save('va_supply_map.html')\n"
   ]
  },
  {
   "cell_type": "code",
   "execution_count": null,
   "metadata": {},
   "outputs": [],
   "source": []
  }
 ],
 "metadata": {
  "kernelspec": {
   "display_name": "detmenv",
   "language": "python",
   "name": "python3"
  },
  "language_info": {
   "codemirror_mode": {
    "name": "ipython",
    "version": 3
   },
   "file_extension": ".py",
   "mimetype": "text/x-python",
   "name": "python",
   "nbconvert_exporter": "python",
   "pygments_lexer": "ipython3",
   "version": "3.11.9"
  }
 },
 "nbformat": 4,
 "nbformat_minor": 2
}
