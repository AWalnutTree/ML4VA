{
 "cells": [
  {
   "cell_type": "markdown",
   "metadata": {},
   "source": [
    "# Closer Look - Virginia Food Banks Dataset"
   ]
  },
  {
   "cell_type": "code",
   "execution_count": 41,
   "metadata": {},
   "outputs": [],
   "source": [
    "# Imports\n",
    "import pandas as pd\n",
    "import folium\n",
    "import json"
   ]
  },
  {
   "cell_type": "code",
   "execution_count": 42,
   "metadata": {},
   "outputs": [],
   "source": [
    "df = pd.read_csv('OUTPUT/SUPPLY.csv')\n",
    "\n",
    "# Convert relevant columns to numeric types\n",
    "df['people_below_poverty_total'] = pd.to_numeric(df['people_below_poverty_total'], errors='coerce')\n",
    "df['poverty_rate'] = df['poverty_rate'].str.rstrip('%').astype(float)\n",
    "df['Pounds of Food Distributed'] = pd.to_numeric(df['Pounds of Food Distributed'], errors='coerce')\n",
    "df['lbs_per_person_below_poverty'] = pd.to_numeric(df['lbs_per_person_below_poverty'], errors='coerce')\n",
    "\n",
    "df_aggregated = df.groupby('Locality').agg({\n",
    "    'people_below_poverty_total': 'mean',\n",
    "    'poverty_rate': 'mean',\n",
    "    'Pounds of Food Distributed': 'sum',\n",
    "    'lbs_per_person_below_poverty': 'mean',\n",
    "    'Supply': lambda x: x.mode()[0]  # Assuming mode is the most common supply level\n",
    "}).reset_index()\n",
    "\n",
    "df_aggregated = df_aggregated.round({\n",
    "    'people_below_poverty_total': 2,\n",
    "    'poverty_rate': 2,\n",
    "    'Pounds of Food Distributed': 2,\n",
    "    'lbs_per_person_below_poverty': 2\n",
    "})\n",
    "\n",
    "df_aggregated['poverty_rate'] = df_aggregated['poverty_rate'].astype(str) + '%'"
   ]
  },
  {
   "cell_type": "code",
   "execution_count": null,
   "metadata": {},
   "outputs": [
    {
     "name": "stdout",
     "output_type": "stream",
     "text": [
      "Manassas Park City\n",
      "Falls Church City\n",
      "Fairfax City\n"
     ]
    }
   ],
   "source": [
    "va_map = folium.Map(location=[37.4316, -78.6569], zoom_start=8)\n",
    "\n",
    "with open('va.geojson') as f:\n",
    "    counties_geojson = json.load(f)\n",
    "\n",
    "def get_supply_color(supply):\n",
    "    if supply == '--':\n",
    "        return 'red'\n",
    "    elif supply == '-':\n",
    "        return 'orange'\n",
    "    elif supply == '○':\n",
    "        return 'yellow'\n",
    "    elif supply == '+':\n",
    "        return 'lightgreen'\n",
    "    elif supply == '++':\n",
    "        return 'green'\n",
    "\n",
    "for feature in counties_geojson['features']:\n",
    "    locale_name = feature['properties']['name'] + \" \" + feature['properties']['TYPE']\n",
    "    if locale_name in df['Locality'].values:\n",
    "        supply_value = df[df['Locality'] == locale_name]['Supply'].values[0]\n",
    "        feature['properties']['supply_color'] = get_supply_color(str(supply_value))\n",
    "    else:\n",
    "        # print(locale_name)\n",
    "        feature['properties']['supply_color'] = 'purple'\n",
    "\n",
    "m = folium.Map(location=[37.5, -78.5], zoom_start=7)\n",
    "\n",
    "folium.GeoJson(\n",
    "    counties_geojson,\n",
    "    style_function=lambda feature: {\n",
    "        'fillColor': feature['properties']['supply_color'],\n",
    "        'color': feature['properties']['supply_color'],\n",
    "        'weight': 2,\n",
    "        'fillOpacity': 0.3\n",
    "    },\n",
    "    tooltip=folium.GeoJsonTooltip(\n",
    "        fields=['name', 'supply_color'],\n",
    "        aliases=['County:', 'Supply Level:']\n",
    "    )\n",
    ").add_to(m)\n",
    "\n",
    "m.save('va_supply_map.html')\n"
   ]
  }
 ],
 "metadata": {
  "kernelspec": {
   "display_name": "detmenv",
   "language": "python",
   "name": "python3"
  },
  "language_info": {
   "codemirror_mode": {
    "name": "ipython",
    "version": 3
   },
   "file_extension": ".py",
   "mimetype": "text/x-python",
   "name": "python",
   "nbconvert_exporter": "python",
   "pygments_lexer": "ipython3",
   "version": "3.11.9"
  }
 },
 "nbformat": 4,
 "nbformat_minor": 2
}
